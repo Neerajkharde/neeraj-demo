{
  "nbformat": 4,
  "nbformat_minor": 0,
  "metadata": {
    "colab": {
      "provenance": [],
      "authorship_tag": "ABX9TyP3NR6a33oBvdFwqzpMKLVH"
    },
    "kernelspec": {
      "name": "python3",
      "display_name": "Python 3"
    },
    "language_info": {
      "name": "python"
    }
  },
  "cells": [
    {
      "cell_type": "code",
      "execution_count": 1,
      "metadata": {
        "colab": {
          "base_uri": "https://localhost:8080/"
        },
        "id": "eqxQoeLyCTR_",
        "outputId": "4b0aab06-d0d5-42e7-fdde-a81e028128ed"
      },
      "outputs": [
        {
          "output_type": "stream",
          "name": "stdout",
          "text": [
            "Hello World!\n"
          ]
        }
      ],
      "source": [
        "print(\"Hello World!\") # --> To print the statement written in the bracket!\n"
      ]
    },
    {
      "cell_type": "code",
      "source": [
        "# Command for importing keywords\n",
        "import keyword\n",
        "# Command for displaying keyword\n",
        "\"Total number of keywords:\" , keyword.kwlist"
      ],
      "metadata": {
        "colab": {
          "base_uri": "https://localhost:8080/"
        },
        "id": "ZNMKforYDFzs",
        "outputId": "366710b6-9b03-4bc7-cd4e-5243206862d9"
      },
      "execution_count": 2,
      "outputs": [
        {
          "output_type": "execute_result",
          "data": {
            "text/plain": [
              "('Total number of keywords:',\n",
              " ['False',\n",
              "  'None',\n",
              "  'True',\n",
              "  'and',\n",
              "  'as',\n",
              "  'assert',\n",
              "  'async',\n",
              "  'await',\n",
              "  'break',\n",
              "  'class',\n",
              "  'continue',\n",
              "  'def',\n",
              "  'del',\n",
              "  'elif',\n",
              "  'else',\n",
              "  'except',\n",
              "  'finally',\n",
              "  'for',\n",
              "  'from',\n",
              "  'global',\n",
              "  'if',\n",
              "  'import',\n",
              "  'in',\n",
              "  'is',\n",
              "  'lambda',\n",
              "  'nonlocal',\n",
              "  'not',\n",
              "  'or',\n",
              "  'pass',\n",
              "  'raise',\n",
              "  'return',\n",
              "  'try',\n",
              "  'while',\n",
              "  'with',\n",
              "  'yield'])"
            ]
          },
          "metadata": {},
          "execution_count": 2
        }
      ]
    },
    {
      "cell_type": "code",
      "source": [
        "## Comments in Python !\n",
        "##\n",
        "\"\"\"\n",
        "\n",
        "\"\"\""
      ],
      "metadata": {
        "id": "VzePehOaDVPF"
      },
      "execution_count": null,
      "outputs": []
    },
    {
      "cell_type": "code",
      "source": [
        "# Variables\n",
        "\"\"\"\n",
        "Here there is no need to define the type of the variable\n",
        "\"\"\"\n",
        "a = 10\n",
        "b = \"My Name is Neeraj\"\n",
        "c = 3.142\n",
        "\n",
        "print(a)\n",
        "print(b)\n",
        "print(c)\n",
        "type(b)  # :--> This is used to print the type of the variable"
      ],
      "metadata": {
        "colab": {
          "base_uri": "https://localhost:8080/"
        },
        "id": "vF_5ikVhEJZt",
        "outputId": "aba01bd4-8e0e-4179-dcb9-e9ac4e4e2a2a"
      },
      "execution_count": 7,
      "outputs": [
        {
          "output_type": "stream",
          "name": "stdout",
          "text": [
            "10\n",
            "My Name is Neeraj\n",
            "3.142\n"
          ]
        },
        {
          "output_type": "execute_result",
          "data": {
            "text/plain": [
              "str"
            ]
          },
          "metadata": {},
          "execution_count": 7
        }
      ]
    },
    {
      "cell_type": "code",
      "source": [
        "# f string printing\n",
        "\n",
        "print(f\"Printing using fString\")"
      ],
      "metadata": {
        "colab": {
          "base_uri": "https://localhost:8080/"
        },
        "id": "66RHuP6bEnog",
        "outputId": "3872f0f5-06f1-46b0-8dec-b886c3470d6f"
      },
      "execution_count": 8,
      "outputs": [
        {
          "output_type": "stream",
          "name": "stdout",
          "text": [
            "Printing using fString\n"
          ]
        }
      ]
    },
    {
      "cell_type": "code",
      "source": [
        "# Taking input from user\n",
        "\n",
        "# First declare a variable\n",
        "name = input(\"Enter your name: \")  # --> This is the method used to in[ut things from the user]\n",
        "print(name)"
      ],
      "metadata": {
        "colab": {
          "base_uri": "https://localhost:8080/"
        },
        "id": "ykRNg2E3FTdX",
        "outputId": "fa631778-1b78-4bd3-c33f-e72ed2cc59fb"
      },
      "execution_count": 10,
      "outputs": [
        {
          "output_type": "stream",
          "name": "stdout",
          "text": [
            "Enter your name: Neeraj\n",
            "Neeraj\n"
          ]
        }
      ]
    },
    {
      "cell_type": "code",
      "source": [
        "# Exercise 1\n",
        "name = input(\"Enter your name: \")\n",
        "college = input(\"Enter your college name: \")\n",
        "age = input(\"What is your age?\")\n",
        "\n",
        "print(name, college, age)"
      ],
      "metadata": {
        "colab": {
          "base_uri": "https://localhost:8080/"
        },
        "id": "NazEfglPF0qF",
        "outputId": "9f8a5800-ba9c-492b-90db-d515143ce58a"
      },
      "execution_count": 11,
      "outputs": [
        {
          "name": "stdout",
          "output_type": "stream",
          "text": [
            "Enter your nameNeeraj\n",
            "Enter your college name: PICT\n"
          ]
        }
      ]
    },
    {
      "cell_type": "code",
      "source": [
        "# Print Datatype\n",
        "name = input(\"What is ur name? \")\n",
        "age = int(input(\"Enter your age: \"))\n",
        "\n",
        "print(name, age)"
      ],
      "metadata": {
        "colab": {
          "base_uri": "https://localhost:8080/"
        },
        "id": "SU1XeIyvGCkL",
        "outputId": "5bb7488e-edd1-4ca6-9919-584a75ff0362"
      },
      "execution_count": 12,
      "outputs": [
        {
          "output_type": "stream",
          "name": "stdout",
          "text": [
            "What is ur name? neeraj\n",
            "Enter your age: 18\n",
            "neeraj 18\n"
          ]
        }
      ]
    },
    {
      "cell_type": "code",
      "source": [
        "# We cannot use special character to declare variables\n",
        "d@ = 5\n",
        "\n",
        "# We cannot start a variable with number\n",
        "2name = rfiw"
      ],
      "metadata": {
        "id": "Mu8jdtBgG6jK"
      },
      "execution_count": null,
      "outputs": []
    },
    {
      "cell_type": "code",
      "source": [
        "# Lists in python\n",
        "\"\"\"\n",
        "Make a list of 10 prime numbers\n",
        "\"\"\"\n",
        "\n",
        "l1 = [2,3,5,7,9,11,19,23,29]\n",
        "print(\"First 10 prime numbers are: \", l1)\n",
        "#OR\n",
        "print(f\"First 10 prime nubers are : {l1}\")"
      ],
      "metadata": {
        "colab": {
          "base_uri": "https://localhost:8080/"
        },
        "id": "nk8O-QwFHNSL",
        "outputId": "ec715735-3849-4836-dbfd-4feb27ddccbe"
      },
      "execution_count": 13,
      "outputs": [
        {
          "output_type": "stream",
          "name": "stdout",
          "text": [
            "First 10 prime numbers are:  [2, 3, 5, 7, 9, 11, 19, 23, 29]\n",
            "First 10 prime nubers are : [2, 3, 5, 7, 9, 11, 19, 23, 29]\n"
          ]
        }
      ]
    },
    {
      "cell_type": "code",
      "source": [
        "# Adding an element in the list from last i.e. To append\n",
        "l1 = [1,2,3,4,5,6,7,8,9,10]\n",
        "\n",
        "l1.append(12)\n",
        "print(f\"Our list is: {l1}\")"
      ],
      "metadata": {
        "colab": {
          "base_uri": "https://localhost:8080/"
        },
        "id": "JRIvbZUJHyVc",
        "outputId": "73075c9b-0333-45a2-8d18-36268fa564ac"
      },
      "execution_count": 14,
      "outputs": [
        {
          "output_type": "stream",
          "name": "stdout",
          "text": [
            "Our list is: [1, 2, 3, 4, 5, 6, 7, 8, 9, 10, 12]\n"
          ]
        }
      ]
    },
    {
      "cell_type": "code",
      "source": [
        "# To remove an element from the list :\n",
        "l1 = [1,2,3,4,5,6,7,8,9]\n",
        "l1.remove(5)\n",
        "print(f\"Our new list is: {l1}\")"
      ],
      "metadata": {
        "colab": {
          "base_uri": "https://localhost:8080/"
        },
        "id": "PXdWujqbIHFP",
        "outputId": "15e128d9-0c90-43e1-84a0-436999174688"
      },
      "execution_count": 15,
      "outputs": [
        {
          "output_type": "stream",
          "name": "stdout",
          "text": [
            "Our new list is: [1, 2, 3, 4, 6, 7, 8, 9]\n"
          ]
        }
      ]
    },
    {
      "cell_type": "code",
      "source": [
        "#To change an element at a particular index\n",
        "l1 = [1,2,3,4,5,6,7,8,9,10,11,12,13]\n",
        "print(l1[1]) # This is our index. Python is also a zero indexed method\n",
        "\n",
        "# Now we will change an elememt from one particular index\n",
        "l1[1] = 15\n",
        "print(f\"Our LIst : {l1}\")"
      ],
      "metadata": {
        "colab": {
          "base_uri": "https://localhost:8080/"
        },
        "id": "1eps8oEYIREo",
        "outputId": "ef849ab8-0487-4b05-e5f7-7378f31b9bb7"
      },
      "execution_count": 18,
      "outputs": [
        {
          "output_type": "stream",
          "name": "stdout",
          "text": [
            "2\n",
            "Our LIst : [1, 15, 3, 4, 5, 6, 7, 8, 9, 10, 11, 12, 13]\n"
          ]
        }
      ]
    },
    {
      "cell_type": "code",
      "source": [
        "# Making a tuple\n",
        "\"\"\"\n",
        "Tuple is like the list but use curve bracket instead of square bracket\n",
        "\"\"\"\n",
        "t = (1,2,3,4,5)\n",
        "type(t)\n",
        "\n",
        "# Indexing in couple is just like that of an list\n"
      ],
      "metadata": {
        "colab": {
          "base_uri": "https://localhost:8080/"
        },
        "id": "6Vj77ZzTIfpa",
        "outputId": "989e128f-3f48-4118-9b28-1b65abfc4d11"
      },
      "execution_count": 19,
      "outputs": [
        {
          "output_type": "execute_result",
          "data": {
            "text/plain": [
              "tuple"
            ]
          },
          "metadata": {},
          "execution_count": 19
        }
      ]
    },
    {
      "cell_type": "code",
      "source": [
        "# Slicing :\n",
        "\"\"\"\n",
        "Syntax for slicing is:\n",
        "l1 [start : end : step]\n",
        "#Step corresponds to stpes taken to print the elementys of the list\n",
        "In below example we take step=2 so the elements will be printed in such a manner that it will jump\n",
        "two steps forward and then print the element on  which it stands\n",
        "\"\"\"\n",
        "\"\"\"\n",
        "List of 15 prime numbers\n",
        "\"\"\"\n",
        "l1 = [2,3,5,7,11,13,17,19,23,29,31,37,41,43,47]\n",
        "#Printing first 5 prime numbers --> [0,5)\n",
        "print(l1[0:5]) # This is know as slicing\n",
        "\n",
        "# Slicing Indexing\n",
        "print (l1[0::2])\n",
        "\n",
        "# We can also concatanate these two lists to form the original list!\n"
      ],
      "metadata": {
        "colab": {
          "base_uri": "https://localhost:8080/"
        },
        "id": "HAx3no9KJWUI",
        "outputId": "08d90f0a-3f17-43ed-b47f-d7398ef8d999"
      },
      "execution_count": 21,
      "outputs": [
        {
          "output_type": "stream",
          "name": "stdout",
          "text": [
            "[2, 3, 5, 7, 11]\n",
            "[2, 5, 11, 17, 23, 31, 41, 47]\n"
          ]
        }
      ]
    },
    {
      "cell_type": "code",
      "source": [
        "# Dictionaries in Python\n",
        "\"\"\"\n",
        "Dictionary is the collection of key-value pairs\n",
        "Keys are unique\n",
        "Syntax is as follows :\n",
        "\n",
        " {key1 : value1, key2 : value2, ...}\n",
        "\"\"\"\n",
        "dict1 = {1:\"Neeraj\", 2:\"Suraj\", 3:\"Keshav\", 4:\"Madhav\"}\n",
        "dict1[2] #Syntax to access the dictionary is :--> dict1[key]"
      ],
      "metadata": {
        "colab": {
          "base_uri": "https://localhost:8080/",
          "height": 35
        },
        "id": "vWbgbY97J8Re",
        "outputId": "38f34546-39e9-4de6-d174-c5f7f0898492"
      },
      "execution_count": 22,
      "outputs": [
        {
          "output_type": "execute_result",
          "data": {
            "text/plain": [
              "'Suraj'"
            ],
            "application/vnd.google.colaboratory.intrinsic+json": {
              "type": "string"
            }
          },
          "metadata": {},
          "execution_count": 22
        }
      ]
    },
    {
      "cell_type": "code",
      "source": [
        "# Operators\n",
        "x, y, m, n, p, q = 10, 20, 32, 10, 2, 8\n",
        "\n",
        "#1. Addition\n",
        "print(x+y)\n",
        "\n",
        "#2. Floor Division :-- Gives Quotient in float\n",
        "print(m//n)\n",
        "\n",
        "#3. Exponent\n",
        "print(p**q) #This is 2^8\n",
        "\n",
        "#4. Inequalities\n",
        "print(x > y) # --> This will give output as : FALSE\n",
        "print(x < y) # --> This will give output as : TRUE\n",
        "\n",
        "#5. Assignment Operators, BitWise Operators, etc..  ---> Refer to JAVA NOtes of mine\n",
        "#and so on..."
      ],
      "metadata": {
        "colab": {
          "base_uri": "https://localhost:8080/"
        },
        "id": "CHuRaIpsL03Z",
        "outputId": "15f61cc0-a6fd-4b11-bb1b-7e0a8c8e7db6"
      },
      "execution_count": 26,
      "outputs": [
        {
          "output_type": "stream",
          "name": "stdout",
          "text": [
            "30\n",
            "3\n",
            "256\n",
            "False\n",
            "True\n"
          ]
        }
      ]
    },
    {
      "cell_type": "code",
      "source": [
        "# Swapping two numbers\n",
        "# Without using temporary variable\n",
        "a, b = 10, 20\n",
        "print(f\"a is {a} and b is {b}\")\n",
        "\n",
        "print(\"By using + and -\")\n",
        "a = a + b\n",
        "b = a - b\n",
        "a = a - b\n",
        "print(f\"a is {a} and b is {b}\")\n",
        "\n",
        "print(\"By using Xor Operator\")\n",
        "# By using Xor Operator :\n",
        "a = a^b\n",
        "b = a^b\n",
        "a = a^b\n",
        "print(f\"a is {a} and b is {b}\") # Here for this code we get the original"
      ],
      "metadata": {
        "colab": {
          "base_uri": "https://localhost:8080/"
        },
        "id": "n9pcIW33MLh_",
        "outputId": "4f9e2b9c-c138-4b6a-d8b6-5696b77e570b"
      },
      "execution_count": 28,
      "outputs": [
        {
          "output_type": "stream",
          "name": "stdout",
          "text": [
            "a is 10 and b is 20\n",
            "By using + and -\n",
            "a is 20 and b is 10\n",
            "By using Xor Operator\n",
            "a is 10 and b is 20\n"
          ]
        }
      ]
    },
    {
      "cell_type": "code",
      "source": [
        "# If else statements\n",
        "\n",
        "#We will check whether a number taken input from user is even or not !!\n",
        "num = int(input(\"Enter a number: \"))\n",
        "\n",
        "if num%2 == 0 :\n",
        "  print(f\"{num} is even\")\n",
        "else :\n",
        "  print(f\"{num} is not even\")\n",
        "\n",
        "# Checking even or odd by using & Operator\n",
        "if num&1 == 0:\n",
        "  print(f\"{num} is even\") # Even numbers have zero as their last bit\n",
        "else :\n",
        "  print(f\"{num} is odd\") # Odd numbers have one as their last bit\n",
        "\n",
        "# Similarly we can use if, elif, else Statements :\n",
        "# Q. Check if a number is divisible by 2 or 3 or 5\n",
        "\n",
        "if num%2 == 0:\n",
        "  print(f\"{num} is divisible by two\")\n",
        "elif num%3 == 0:\n",
        "  print(f\"{num} is divisible by three\")\n",
        "elif num%5 == 0:\n",
        "  print(f\"{num} is divisible by five\")\n",
        "else"
      ],
      "metadata": {
        "colab": {
          "base_uri": "https://localhost:8080/"
        },
        "id": "1eqhlhiuOeKL",
        "outputId": "324ddbbc-e7d7-44b0-a2eb-ae84eba7f0d2"
      },
      "execution_count": 30,
      "outputs": [
        {
          "output_type": "stream",
          "name": "stdout",
          "text": [
            "Enter a number: 102\n",
            "102 is even\n",
            "102 is even\n"
          ]
        }
      ]
    },
    {
      "cell_type": "code",
      "source": [
        "# Loops\n",
        "# Q. Count and store the numbers divisible by 2, 3, 5 from 1 to n\n",
        "n = int(input(\"Enter number n: \"))\n",
        "c2 = 0\n",
        "c3 = 0\n",
        "c5 = 0\n",
        "l2 = []\n",
        "l3 = []\n",
        "l5 = []\n",
        "\n",
        "# For Loop\n",
        "\"\"\"\n",
        "Syntax :\n",
        "for _variable_ in _condition_ :\n",
        "  //Write here\n",
        "\"\"\"\n",
        "\n",
        "for n in range(1, n+1) :\n",
        "  if n%2 ==0:\n",
        "    c2 += 1\n",
        "    l2.append(n)\n",
        "  if n%3 ==0:\n",
        "    c3+=1\n",
        "    l3.append(n)\n",
        "  if n%5 ==0:\n",
        "    c5=+1\n",
        "    l5.append(n)\n",
        "\n",
        "print(f\"Divisible by 2: {c2}\")\n",
        "print(f\"Divisible by 3: {c3}\")\n",
        "print(f\"Divisible by 5: {c5}\")\n",
        "print(f\"Divisible by 2: {l2}\")\n",
        "print(f\"Divisible by 3: {l3}\")\n",
        "print(f\"Divisible by 5: {l5}\")\n",
        "\n",
        "\n",
        "# This similar loop can be written by using while loop\n",
        "\"\"\"\n",
        "Syntax:\n",
        "while(condition) :\n",
        "  //Write here\n",
        "\"\"\""
      ],
      "metadata": {
        "colab": {
          "base_uri": "https://localhost:8080/"
        },
        "id": "z_oKFAJ1Qx_W",
        "outputId": "2b9f1972-5bc7-482b-c7ce-e95bb3505abf"
      },
      "execution_count": 31,
      "outputs": [
        {
          "output_type": "stream",
          "name": "stdout",
          "text": [
            "Enter number n: 60\n",
            "Divisible by 2: 30\n",
            "Divisible by 3: 20\n",
            "Divisible by 5: 1\n",
            "Divisible by 2: [2, 4, 6, 8, 10, 12, 14, 16, 18, 20, 22, 24, 26, 28, 30, 32, 34, 36, 38, 40, 42, 44, 46, 48, 50, 52, 54, 56, 58, 60]\n",
            "Divisible by 3: [3, 6, 9, 12, 15, 18, 21, 24, 27, 30, 33, 36, 39, 42, 45, 48, 51, 54, 57, 60]\n",
            "Divisible by 5: [5, 10, 15, 20, 25, 30, 35, 40, 45, 50, 55, 60]\n"
          ]
        }
      ]
    },
    {
      "cell_type": "code",
      "source": [],
      "metadata": {
        "id": "uhrxpYR1W7NJ"
      },
      "execution_count": null,
      "outputs": []
    }
  ]
}